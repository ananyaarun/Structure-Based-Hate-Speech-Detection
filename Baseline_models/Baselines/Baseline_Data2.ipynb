{
  "nbformat": 4,
  "nbformat_minor": 0,
  "metadata": {
    "colab": {
      "name": "Baseline_models2.ipynb",
      "provenance": [],
      "toc_visible": true
    },
    "kernelspec": {
      "name": "python3",
      "display_name": "Python 3"
    }
  },
  "cells": [
    {
      "cell_type": "markdown",
      "metadata": {
        "id": "XLxA0bczhlvs"
      },
      "source": [
        "# Baseline ML models\n"
      ]
    },
    {
      "cell_type": "code",
      "metadata": {
        "id": "z0-UKGwnzIMU"
      },
      "source": [
        "import numpy as np\n",
        "import pandas as pd\n",
        "from sklearn.feature_extraction.text import CountVectorizer\n",
        "from sklearn.model_selection import train_test_split\n",
        "from sklearn.naive_bayes import MultinomialNB\n",
        "from sklearn.svm import SVC\n",
        "from sklearn.pipeline import make_pipeline\n",
        "from sklearn.preprocessing import StandardScaler\n",
        "from sklearn.linear_model import LogisticRegression\n",
        "from sklearn import tree\n",
        "from sklearn.metrics import precision_recall_fscore_support\n",
        "from sklearn.metrics import f1_score\n",
        "from sklearn.metrics import precision_score\n",
        "from sklearn.metrics import recall_score"
      ],
      "execution_count": 1,
      "outputs": []
    },
    {
      "cell_type": "markdown",
      "metadata": {
        "id": "pSidcUZch1yy"
      },
      "source": [
        "# Reading datasets and creating test train split"
      ]
    },
    {
      "cell_type": "code",
      "metadata": {
        "id": "VqLMpGP_5hX7",
        "outputId": "b2a117ab-a665-4a1b-da0a-132279c5d9df",
        "colab": {
          "base_uri": "https://localhost:8080/",
          "height": 224
        }
      },
      "source": [
        "data = pd.read_csv('data_raw.csv',sep=',',names=['Msg','Tag'])\n",
        "from collections import Counter\n",
        "print(Counter(data['Tag']))\n",
        "data.head()"
      ],
      "execution_count": 17,
      "outputs": [
        {
          "output_type": "stream",
          "text": [
            "Counter({1: 19190, 2: 4163, 0: 1430})\n"
          ],
          "name": "stdout"
        },
        {
          "output_type": "execute_result",
          "data": {
            "text/html": [
              "<div>\n",
              "<style scoped>\n",
              "    .dataframe tbody tr th:only-of-type {\n",
              "        vertical-align: middle;\n",
              "    }\n",
              "\n",
              "    .dataframe tbody tr th {\n",
              "        vertical-align: top;\n",
              "    }\n",
              "\n",
              "    .dataframe thead th {\n",
              "        text-align: right;\n",
              "    }\n",
              "</style>\n",
              "<table border=\"1\" class=\"dataframe\">\n",
              "  <thead>\n",
              "    <tr style=\"text-align: right;\">\n",
              "      <th></th>\n",
              "      <th>Msg</th>\n",
              "      <th>Tag</th>\n",
              "    </tr>\n",
              "  </thead>\n",
              "  <tbody>\n",
              "    <tr>\n",
              "      <th>0</th>\n",
              "      <td>jaydillz my babies pussy is too tight today t...</td>\n",
              "      <td>1</td>\n",
              "    </tr>\n",
              "    <tr>\n",
              "      <th>1</th>\n",
              "      <td>seymourblanco they game is over fuck yall bit...</td>\n",
              "      <td>1</td>\n",
              "    </tr>\n",
              "    <tr>\n",
              "      <th>2</th>\n",
              "      <td>can you let me stretch that pussy out or nahhh</td>\n",
              "      <td>1</td>\n",
              "    </tr>\n",
              "    <tr>\n",
              "      <th>3</th>\n",
              "      <td>don t mind that twinkies are gonna be gone ver...</td>\n",
              "      <td>2</td>\n",
              "    </tr>\n",
              "    <tr>\n",
              "      <th>4</th>\n",
              "      <td>cnt nobody be mad at who he choose to be with ...</td>\n",
              "      <td>1</td>\n",
              "    </tr>\n",
              "  </tbody>\n",
              "</table>\n",
              "</div>"
            ],
            "text/plain": [
              "                                                 Msg  Tag\n",
              "0   jaydillz my babies pussy is too tight today t...    1\n",
              "1   seymourblanco they game is over fuck yall bit...    1\n",
              "2     can you let me stretch that pussy out or nahhh    1\n",
              "3  don t mind that twinkies are gonna be gone ver...    2\n",
              "4  cnt nobody be mad at who he choose to be with ...    1"
            ]
          },
          "metadata": {
            "tags": []
          },
          "execution_count": 17
        }
      ]
    },
    {
      "cell_type": "code",
      "metadata": {
        "id": "sl1WZY_L5jIS",
        "outputId": "c1419121-5f87-49d1-8f76-e43d99d82314",
        "colab": {
          "base_uri": "https://localhost:8080/"
        }
      },
      "source": [
        "data_x=data[\"Msg\"]\n",
        "data_y=data[\"Tag\"]\n",
        "cv = CountVectorizer()\n",
        "x_train, x_test, y_train, y_test = train_test_split(data_x, data_y, test_size=0.2, random_state=4)\n",
        "\n",
        "x_train.head()"
      ],
      "execution_count": 3,
      "outputs": [
        {
          "output_type": "execute_result",
          "data": {
            "text/plain": [
              "13479    if ive ever been a faggot to you let me know a...\n",
              "11021    if i straighten my hair it s gonna be long and...\n",
              "6053     wanna find out the truth about somebody just t...\n",
              "1310      darealalexinla woody afc rodriguez the nig is...\n",
              "22170     andyydotcom you gotta be a weak bitch to let ...\n",
              "Name: Msg, dtype: object"
            ]
          },
          "metadata": {
            "tags": []
          },
          "execution_count": 3
        }
      ]
    },
    {
      "cell_type": "code",
      "metadata": {
        "id": "zm_-azEfNBUw",
        "outputId": "af470d1c-55a1-4816-cc1b-e4a0bd7d268c",
        "colab": {
          "base_uri": "https://localhost:8080/",
          "height": 191
        }
      },
      "source": [
        "cv = CountVectorizer()\n",
        "x_traincv = cv.fit_transform([\"bayhdb hab ujhanvuz sniugnv\",\"shnf nfuje test test\",\"test anhf janbd whbj\"])\n",
        "x_traincv.toarray()\n",
        "cv.get_feature_names()"
      ],
      "execution_count": null,
      "outputs": [
        {
          "output_type": "execute_result",
          "data": {
            "text/plain": [
              "['anhf',\n",
              " 'bayhdb',\n",
              " 'hab',\n",
              " 'janbd',\n",
              " 'nfuje',\n",
              " 'shnf',\n",
              " 'sniugnv',\n",
              " 'test',\n",
              " 'ujhanvuz',\n",
              " 'whbj']"
            ]
          },
          "metadata": {
            "tags": []
          },
          "execution_count": 82
        }
      ]
    },
    {
      "cell_type": "markdown",
      "metadata": {
        "id": "gMDwzdUKh88I"
      },
      "source": [
        "# Defining and fitting count vectorizer"
      ]
    },
    {
      "cell_type": "code",
      "metadata": {
        "id": "KhYCjcAt5jmN",
        "outputId": "0bcf68b5-d3b7-4267-8a44-b1e523ef2a68",
        "colab": {
          "base_uri": "https://localhost:8080/"
        }
      },
      "source": [
        "cv1 = CountVectorizer()\n",
        "x_traincv=cv1.fit_transform(x_train.values.astype('U'))\n",
        "a=x_traincv.toarray()\n",
        "a[0]\n",
        "\n"
      ],
      "execution_count": 4,
      "outputs": [
        {
          "output_type": "execute_result",
          "data": {
            "text/plain": [
              "array([0, 0, 0, ..., 0, 0, 0])"
            ]
          },
          "metadata": {
            "tags": []
          },
          "execution_count": 4
        }
      ]
    },
    {
      "cell_type": "code",
      "metadata": {
        "id": "HwiYdh5J5kAQ",
        "outputId": "a5c32620-01a9-47b3-ff8f-190e5b9f12e9",
        "colab": {
          "base_uri": "https://localhost:8080/"
        }
      },
      "source": [
        "x_testcv=cv1.transform(x_test.values.astype('U'))\n",
        "x_testcv.toarray()\n"
      ],
      "execution_count": 5,
      "outputs": [
        {
          "output_type": "execute_result",
          "data": {
            "text/plain": [
              "array([[0, 0, 0, ..., 0, 0, 0],\n",
              "       [0, 0, 0, ..., 0, 0, 0],\n",
              "       [0, 0, 0, ..., 0, 0, 0],\n",
              "       ...,\n",
              "       [0, 0, 0, ..., 0, 0, 0],\n",
              "       [0, 0, 0, ..., 0, 0, 0],\n",
              "       [0, 0, 0, ..., 0, 0, 0]])"
            ]
          },
          "metadata": {
            "tags": []
          },
          "execution_count": 5
        }
      ]
    },
    {
      "cell_type": "markdown",
      "metadata": {
        "id": "MR2ZyJO_iDa8"
      },
      "source": [
        "# 1) Naive Bayes classification model"
      ]
    },
    {
      "cell_type": "code",
      "metadata": {
        "id": "fq3uVoxn5kit",
        "outputId": "5c438661-e9b2-40f4-f7d0-3a558b4f1116",
        "colab": {
          "base_uri": "https://localhost:8080/"
        }
      },
      "source": [
        "mnb = MultinomialNB()\n",
        "y_train=y_train.astype('int')\n",
        "y_train\n"
      ],
      "execution_count": 6,
      "outputs": [
        {
          "output_type": "execute_result",
          "data": {
            "text/plain": [
              "13479    1\n",
              "11021    1\n",
              "6053     1\n",
              "1310     0\n",
              "22170    1\n",
              "        ..\n",
              "11863    1\n",
              "22401    1\n",
              "17093    2\n",
              "8366     2\n",
              "17530    2\n",
              "Name: Tag, Length: 19826, dtype: int64"
            ]
          },
          "metadata": {
            "tags": []
          },
          "execution_count": 6
        }
      ]
    },
    {
      "cell_type": "code",
      "metadata": {
        "id": "Cjxv_OJy5lCx",
        "outputId": "bb584081-05e2-4fd4-dc56-de90349fc2fb",
        "colab": {
          "base_uri": "https://localhost:8080/"
        }
      },
      "source": [
        "mnb.fit(x_traincv,y_train)"
      ],
      "execution_count": 7,
      "outputs": [
        {
          "output_type": "execute_result",
          "data": {
            "text/plain": [
              "MultinomialNB(alpha=1.0, class_prior=None, fit_prior=True)"
            ]
          },
          "metadata": {
            "tags": []
          },
          "execution_count": 7
        }
      ]
    },
    {
      "cell_type": "code",
      "metadata": {
        "id": "ybdRpLX05lcx",
        "outputId": "e7f6571e-30ba-4ab3-d994-91e07957eabb",
        "colab": {
          "base_uri": "https://localhost:8080/"
        }
      },
      "source": [
        "predictions=mnb.predict(x_testcv)\n",
        "print(predictions)\n",
        "a=np.array(y_test)\n"
      ],
      "execution_count": 8,
      "outputs": [
        {
          "output_type": "stream",
          "text": [
            "[1 2 1 ... 2 1 1]\n"
          ],
          "name": "stdout"
        }
      ]
    },
    {
      "cell_type": "markdown",
      "metadata": {
        "id": "Cf33yL2hiKp4"
      },
      "source": [
        "# Calculating accuracies of the Naive Bayes model\n"
      ]
    },
    {
      "cell_type": "code",
      "metadata": {
        "id": "tISrKgFYPAb4"
      },
      "source": [
        "count = 0\n",
        "for i in range (len(predictions)):\n",
        "    if predictions[i]==a[i]:"
      ],
      "execution_count": 9,
      "outputs": []
    },
    {
      "cell_type": "code",
      "metadata": {
        "id": "nH9L1zcjPLmg",
        "outputId": "e4a01382-814a-481e-ab85-e7ed4ff073fb",
        "colab": {
          "base_uri": "https://localhost:8080/"
        }
      },
      "source": [
        "print(\"Accuracy of Naive bayes with dataset\")\n",
        "print(count/len(predictions))\n",
        "\n",
        "print(\" \")\n",
        "print(\"F1 score of Naive bayes with dataset\")\n",
        "print(f1_score(a, predictions, average='macro'))\n",
        "\n",
        "print(\" \")\n",
        "print(\"Precision score of Naive bayes with dataset\")\n",
        "print(precision_score(a, predictions, average='macro'))\n",
        "\n",
        "print(\" \")\n",
        "print(\"Recall score of Naive bayes with dataset\")\n",
        "print(recall_score(a, predictions, average='macro'))\n"
      ],
      "execution_count": 10,
      "outputs": [
        {
          "output_type": "stream",
          "text": [
            "Accuracy of Naive bayes with dataset\n",
            "0.8603994351422232\n",
            " \n",
            "F1 score of Naive bayes with dataset\n",
            "0.5482510676369398\n",
            " \n",
            "Precision score of Naive bayes with dataset\n",
            "0.7509347463150283\n",
            " \n",
            "Recall score of Naive bayes with dataset\n",
            "0.5180319416818895\n"
          ],
          "name": "stdout"
        }
      ]
    },
    {
      "cell_type": "markdown",
      "metadata": {
        "id": "tmHhLNR0ZYUX"
      },
      "source": [
        "# 2) SVM classification model"
      ]
    },
    {
      "cell_type": "code",
      "metadata": {
        "id": "WoWAQe6xZhcY",
        "outputId": "aee0f666-1ab8-47e7-d8cc-b3ee81e1f842",
        "colab": {
          "base_uri": "https://localhost:8080/"
        }
      },
      "source": [
        "svm = make_pipeline(StandardScaler(with_mean=False), SVC(gamma='auto'))\n",
        "\n",
        "svm.fit(x_traincv,y_train)"
      ],
      "execution_count": 11,
      "outputs": [
        {
          "output_type": "execute_result",
          "data": {
            "text/plain": [
              "Pipeline(memory=None,\n",
              "         steps=[('standardscaler',\n",
              "                 StandardScaler(copy=True, with_mean=False, with_std=True)),\n",
              "                ('svc',\n",
              "                 SVC(C=1.0, break_ties=False, cache_size=200, class_weight=None,\n",
              "                     coef0=0.0, decision_function_shape='ovr', degree=3,\n",
              "                     gamma='auto', kernel='rbf', max_iter=-1, probability=False,\n",
              "                     random_state=None, shrinking=True, tol=0.001,\n",
              "                     verbose=False))],\n",
              "         verbose=False)"
            ]
          },
          "metadata": {
            "tags": []
          },
          "execution_count": 11
        }
      ]
    },
    {
      "cell_type": "code",
      "metadata": {
        "id": "i_9Q7cTMatJw",
        "outputId": "22abad66-1143-4a0a-bde9-e488578ce698",
        "colab": {
          "base_uri": "https://localhost:8080/"
        }
      },
      "source": [
        "predictions=svm.predict(x_testcv)\n",
        "print(predictions)\n",
        "a=np.array(y_test)\n"
      ],
      "execution_count": 12,
      "outputs": [
        {
          "output_type": "stream",
          "text": [
            "[1 1 1 ... 1 1 1]\n"
          ],
          "name": "stdout"
        }
      ]
    },
    {
      "cell_type": "code",
      "metadata": {
        "id": "GcvW4XWfa3OC"
      },
      "source": [
        "count = 0\n",
        "for i in range (len(predictions)):\n",
        "    if predictions[i]==a[i]:\n",
        "        count=count+1\n"
      ],
      "execution_count": 13,
      "outputs": []
    },
    {
      "cell_type": "code",
      "metadata": {
        "id": "IXasoOjqa5QJ",
        "outputId": "3bd88d23-a306-489d-8cab-fee666a51e25",
        "colab": {
          "base_uri": "https://localhost:8080/"
        }
      },
      "source": [
        "print(\"Accuracy of SVM with dataset\")\n",
        "print(count/len(predictions))\n",
        "\n",
        "print(\" \")\n",
        "print(\"F1 of SVM with dataset\")\n",
        "print(f1_score(a, predictions, average='macro'))\n",
        "\n",
        "print(\" \")\n",
        "print(\"Precision score of SVM with dataset\")\n",
        "print(precision_score(a, predictions, average='macro'))\n",
        "\n",
        "print(\" \")\n",
        "print(\"Recall score of SVM with dataset\")\n",
        "print(recall_score(a, predictions, average='macro'))\n"
      ],
      "execution_count": 14,
      "outputs": [
        {
          "output_type": "stream",
          "text": [
            "Accuracy of SVM with dataset\n",
            "0.7803106717772846\n",
            " \n",
            "Accuracy of SVM with dataset\n",
            "0.3125183749477444\n",
            " \n",
            "Precision score of SVM with dataset\n",
            "0.5702054594785011\n",
            " \n",
            "Recall score of SVM with dataset\n",
            "0.3437114855240921\n"
          ],
          "name": "stdout"
        }
      ]
    },
    {
      "cell_type": "markdown",
      "metadata": {
        "id": "M7nJnITfbZEk"
      },
      "source": [
        "# 3) Logistic regression Classification model"
      ]
    },
    {
      "cell_type": "code",
      "metadata": {
        "id": "cg6bylYnbf1e",
        "outputId": "d2601e7f-43ae-43a3-c14f-7442b33f50cc",
        "colab": {
          "base_uri": "https://localhost:8080/"
        }
      },
      "source": [
        "lr = LogisticRegression(random_state=0, solver='lbfgs',multi_class='multinomial')\n",
        "\n",
        "lr.fit(x_traincv,y_train)"
      ],
      "execution_count": 30,
      "outputs": [
        {
          "output_type": "stream",
          "text": [
            "/usr/local/lib/python3.6/dist-packages/sklearn/linear_model/_logistic.py:940: ConvergenceWarning: lbfgs failed to converge (status=1):\n",
            "STOP: TOTAL NO. of ITERATIONS REACHED LIMIT.\n",
            "\n",
            "Increase the number of iterations (max_iter) or scale the data as shown in:\n",
            "    https://scikit-learn.org/stable/modules/preprocessing.html\n",
            "Please also refer to the documentation for alternative solver options:\n",
            "    https://scikit-learn.org/stable/modules/linear_model.html#logistic-regression\n",
            "  extra_warning_msg=_LOGISTIC_SOLVER_CONVERGENCE_MSG)\n"
          ],
          "name": "stderr"
        },
        {
          "output_type": "execute_result",
          "data": {
            "text/plain": [
              "LogisticRegression(C=1.0, class_weight=None, dual=False, fit_intercept=True,\n",
              "                   intercept_scaling=1, l1_ratio=None, max_iter=100,\n",
              "                   multi_class='multinomial', n_jobs=None, penalty='l2',\n",
              "                   random_state=0, solver='lbfgs', tol=0.0001, verbose=0,\n",
              "                   warm_start=False)"
            ]
          },
          "metadata": {
            "tags": []
          },
          "execution_count": 30
        }
      ]
    },
    {
      "cell_type": "code",
      "metadata": {
        "id": "JYfJ_8Ihbgfm",
        "outputId": "aeeb68b5-6115-419f-c9ca-d5931602985d",
        "colab": {
          "base_uri": "https://localhost:8080/"
        }
      },
      "source": [
        "predictions=lr.predict(x_testcv)\n",
        "print(predictions)\n",
        "a=np.array(y_test)"
      ],
      "execution_count": 31,
      "outputs": [
        {
          "output_type": "stream",
          "text": [
            "[1 1 1 ... 2 1 1]\n"
          ],
          "name": "stdout"
        }
      ]
    },
    {
      "cell_type": "code",
      "metadata": {
        "id": "sHkzWliLbgx_"
      },
      "source": [
        "count = 0\n",
        "for i in range (len(predictions)):\n",
        "    if predictions[i]==a[i]:\n",
        "        count=count+1"
      ],
      "execution_count": 32,
      "outputs": []
    },
    {
      "cell_type": "code",
      "metadata": {
        "id": "DPeV-ufMbhJ5",
        "outputId": "08f3e1dd-75e0-4d53-b43e-ac8f72901818",
        "colab": {
          "base_uri": "https://localhost:8080/"
        }
      },
      "source": [
        "print(\"Accuracy of LR with dataset\")\n",
        "print(count/len(predictions))\n",
        "print(\" \")\n",
        "print(\"F1 of LR with dataset\")\n",
        "print(f1_score(a, predictions, average='macro'))\n",
        "print(\" \")\n",
        "print(\"Precision score of LR with dataset\")\n",
        "print(precision_score(a, predictions, average='macro'))\n",
        "print(\" \")\n",
        "print(\"Recall score of LR with dataset\")\n",
        "print(recall_score(a, predictions, average='macro'))"
      ],
      "execution_count": 33,
      "outputs": [
        {
          "output_type": "stream",
          "text": [
            "Accuracy of LR with dataset\n",
            "0.9039741779301997\n",
            " \n",
            "Accuracy of LR with dataset\n",
            "0.6996201138114778\n",
            " \n",
            "Precision score of LR with dataset\n",
            "0.7351294308699409\n",
            " \n",
            "Recall score of LR with dataset\n",
            "0.6874121382669932\n"
          ],
          "name": "stdout"
        }
      ]
    },
    {
      "cell_type": "markdown",
      "metadata": {
        "id": "NZiSGxQqbj0X"
      },
      "source": [
        "# 4) Decision Trees Classification model"
      ]
    },
    {
      "cell_type": "code",
      "metadata": {
        "id": "vp6Ey3WobhdZ",
        "outputId": "ecb48ad1-f0c0-4cf4-84a5-58f17af06e3e",
        "colab": {
          "base_uri": "https://localhost:8080/"
        }
      },
      "source": [
        "dt = tree.DecisionTreeClassifier()\n",
        "\n",
        "dt.fit(x_traincv,y_train)"
      ],
      "execution_count": 22,
      "outputs": [
        {
          "output_type": "execute_result",
          "data": {
            "text/plain": [
              "DecisionTreeClassifier(ccp_alpha=0.0, class_weight=None, criterion='gini',\n",
              "                       max_depth=None, max_features=None, max_leaf_nodes=None,\n",
              "                       min_impurity_decrease=0.0, min_impurity_split=None,\n",
              "                       min_samples_leaf=1, min_samples_split=2,\n",
              "                       min_weight_fraction_leaf=0.0, presort='deprecated',\n",
              "                       random_state=None, splitter='best')"
            ]
          },
          "metadata": {
            "tags": []
          },
          "execution_count": 22
        }
      ]
    },
    {
      "cell_type": "code",
      "metadata": {
        "id": "-YzejPoJbuZD",
        "outputId": "71f115a9-08c8-47ca-eda0-e6bb4d388c8c",
        "colab": {
          "base_uri": "https://localhost:8080/"
        }
      },
      "source": [
        "predictions=dt.predict(x_testcv)\n",
        "print(predictions)\n",
        "a=np.array(y_test)"
      ],
      "execution_count": 23,
      "outputs": [
        {
          "output_type": "stream",
          "text": [
            "[1 1 1 ... 2 1 1]\n"
          ],
          "name": "stdout"
        }
      ]
    },
    {
      "cell_type": "code",
      "metadata": {
        "id": "j-98tfH4buug"
      },
      "source": [
        "count = 0\n",
        "for i in range (len(predictions)):\n",
        "    if predictions[i]==a[i]:\n",
        "        count=count+1\n"
      ],
      "execution_count": 24,
      "outputs": []
    },
    {
      "cell_type": "code",
      "metadata": {
        "id": "cvJ4yhPhbvCM",
        "outputId": "c0d62d50-b9a1-42cb-e2a3-0cf5d52d6934",
        "colab": {
          "base_uri": "https://localhost:8080/"
        }
      },
      "source": [
        "print(\"Accuracy of decision trees with dataset\")\n",
        "print(count/len(predictions))\n",
        "print(\" \")\n",
        "print(\"F1 of decision trees with dataset\")\n",
        "print(f1_score(a, predictions, average='macro'))\n",
        "print(\" \")\n",
        "print(\"Precision score of decision trees with dataset\")\n",
        "print(precision_score(a, predictions, average='macro'))\n",
        "print(\" \")\n",
        "print(\"Recall score of decision trees with dataset\")\n",
        "print(recall_score(a, predictions, average='macro'))"
      ],
      "execution_count": 25,
      "outputs": [
        {
          "output_type": "stream",
          "text": [
            "Accuracy of decision trees with dataset\n",
            "0.8846076255799878\n",
            " \n",
            "Accuracy of decision trees with dataset\n",
            "0.6731380158555137\n",
            " \n",
            "Precision score of decision trees with dataset\n",
            "0.680101552296828\n",
            " \n",
            "Recall score of decision trees with dataset\n",
            "0.668332123277354\n"
          ],
          "name": "stdout"
        }
      ]
    }
  ]
}
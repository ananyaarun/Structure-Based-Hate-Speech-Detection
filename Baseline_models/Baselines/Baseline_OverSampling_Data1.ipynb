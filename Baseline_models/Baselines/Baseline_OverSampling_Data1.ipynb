{
  "nbformat": 4,
  "nbformat_minor": 0,
  "metadata": {
    "kernelspec": {
      "display_name": "Python 3",
      "language": "python",
      "name": "python3"
    },
    "language_info": {
      "codemirror_mode": {
        "name": "ipython",
        "version": 3
      },
      "file_extension": ".py",
      "mimetype": "text/x-python",
      "name": "python",
      "nbconvert_exporter": "python",
      "pygments_lexer": "ipython3",
      "version": "3.8.5"
    },
    "colab": {
      "name": "OverSampling.ipynb",
      "provenance": [],
      "collapsed_sections": [],
      "toc_visible": true
    }
  },
  "cells": [
    {
      "cell_type": "markdown",
      "metadata": {
        "id": "oI5J4dpLT2bG"
      },
      "source": [
        "# Oversampling using smote"
      ]
    },
    {
      "cell_type": "markdown",
      "metadata": {
        "id": "AjJiyroeT2bS"
      },
      "source": [
        "### Importing prerequisite libraries"
      ]
    },
    {
      "cell_type": "code",
      "metadata": {
        "id": "AzKFsqNLT2bV"
      },
      "source": [
        "import numpy as np\n",
        "import pandas as pd\n",
        "import imblearn\n",
        "import matplotlib.pyplot as plt\n",
        "\n",
        "from sklearn.feature_extraction.text import CountVectorizer\n",
        "from sklearn.datasets import make_classification\n",
        "from sklearn.datasets import make_blobs\n",
        "from sklearn.datasets import make_gaussian_quantiles\n",
        "\n",
        "from imblearn.over_sampling import RandomOverSampler\n",
        "from imblearn.under_sampling import RandomUnderSampler\n",
        "from collections import Counter\n",
        "\n",
        "from imblearn.over_sampling import SMOTE\n",
        "\n",
        "from sklearn.model_selection import train_test_split\n",
        "from sklearn.naive_bayes import MultinomialNB\n",
        "from sklearn.svm import SVC\n",
        "from sklearn.pipeline import make_pipeline\n",
        "from sklearn.preprocessing import StandardScaler\n",
        "from sklearn.linear_model import LogisticRegression\n",
        "from sklearn import tree\n",
        "from sklearn.metrics import precision_recall_fscore_support\n",
        "from sklearn.metrics import f1_score\n",
        "from sklearn.metrics import accuracy_score\n",
        "from sklearn.metrics import precision_score\n",
        "from sklearn.metrics import recall_score\n",
        "from sklearn.metrics import confusion_matrix"
      ],
      "execution_count": 105,
      "outputs": []
    },
    {
      "cell_type": "markdown",
      "metadata": {
        "id": "ZGeX-Rs_T2bq"
      },
      "source": [
        "### Loading datasets and dropping nulls"
      ]
    },
    {
      "cell_type": "code",
      "metadata": {
        "id": "0REa9i2BT2bs"
      },
      "source": [
        "data = pd.read_csv('dataset.csv',sep=',',names=['Msg','Tag'])\n",
        "data1 = pd.read_csv('dataset_POS.csv',sep=',',names=['Msg','Tag'])\n",
        "data2 = pd.read_csv('dataset_stemmed.csv',sep=',',names=['Msg','Tag'])"
      ],
      "execution_count": 81,
      "outputs": []
    },
    {
      "cell_type": "code",
      "metadata": {
        "id": "7UTtOLhOT2cF"
      },
      "source": [
        "data.dropna(inplace=True)"
      ],
      "execution_count": 82,
      "outputs": []
    },
    {
      "cell_type": "code",
      "metadata": {
        "id": "dB_z_glxT2cc"
      },
      "source": [
        "data1.dropna(inplace=True)"
      ],
      "execution_count": 83,
      "outputs": []
    },
    {
      "cell_type": "code",
      "metadata": {
        "id": "CwUWMAPmT2cv"
      },
      "source": [
        "data2.dropna(inplace=True)"
      ],
      "execution_count": 84,
      "outputs": []
    },
    {
      "cell_type": "code",
      "metadata": {
        "id": "mytoY4npT2c8"
      },
      "source": [
        "data_X = data['Msg']\n",
        "data_Y = data['Tag']\n",
        "data1_X = data1['Msg']\n",
        "data1_Y = data1['Tag']\n",
        "data2_X = data2['Msg']\n",
        "data2_Y = data2['Tag']"
      ],
      "execution_count": 91,
      "outputs": []
    },
    {
      "cell_type": "markdown",
      "metadata": {
        "id": "UVAtykATTecc"
      },
      "source": [
        "#Over sampling hate speech class\n"
      ]
    },
    {
      "cell_type": "code",
      "metadata": {
        "id": "q6INcnEsEnmN",
        "outputId": "cf676ef7-2b19-4ef8-be70-b1a7c7bbf3a3",
        "colab": {
          "base_uri": "https://localhost:8080/"
        }
      },
      "source": [
        "cv = CountVectorizer()\n",
        "x_cv=cv.fit_transform(data_X.values.astype('U'))\n",
        "\n",
        "print(Counter(data_Y))\n",
        "\n",
        "oversample = SMOTE()\n",
        "x, y = oversample.fit_sample(x_cv, data_Y)\n",
        "\n",
        "print(Counter(y))\n",
        "\n",
        "cv1 = CountVectorizer()\n",
        "x1_cv=cv1.fit_transform(data1_X.values.astype('U'))\n",
        "\n",
        "print(Counter(data1_Y))\n",
        "\n",
        "oversample = SMOTE()\n",
        "x1, y1 = oversample.fit_sample(x1_cv, data1_Y)\n",
        "\n",
        "print(Counter(y1))\n",
        "\n",
        "cv2 = CountVectorizer()\n",
        "x2_cv=cv2.fit_transform(data2_X.values.astype('U'))\n",
        "\n",
        "print(Counter(data2_Y))\n",
        "\n",
        "oversample = SMOTE()\n",
        "x2, y2 = oversample.fit_sample(x2_cv, data2_Y)\n",
        "\n",
        "print(Counter(y2))\n"
      ],
      "execution_count": 101,
      "outputs": [
        {
          "output_type": "stream",
          "text": [
            "Counter({0: 9504, 1: 1434})\n"
          ],
          "name": "stdout"
        },
        {
          "output_type": "stream",
          "text": [
            "/usr/local/lib/python3.6/dist-packages/sklearn/utils/deprecation.py:87: FutureWarning: Function safe_indexing is deprecated; safe_indexing is deprecated in version 0.22 and will be removed in version 0.24.\n",
            "  warnings.warn(msg, category=FutureWarning)\n"
          ],
          "name": "stderr"
        },
        {
          "output_type": "stream",
          "text": [
            "Counter({1: 9504, 0: 9504})\n",
            "Counter({0: 9338, 1: 1426})\n",
            "Counter({1: 9338, 0: 9338})\n",
            "Counter({0: 9497, 1: 1434})\n",
            "Counter({1: 9497, 0: 9497})\n"
          ],
          "name": "stdout"
        }
      ]
    },
    {
      "cell_type": "markdown",
      "metadata": {
        "id": "1R5w6xp4Tk_y"
      },
      "source": [
        "# SVM on oversampled data"
      ]
    },
    {
      "cell_type": "code",
      "metadata": {
        "id": "CFOtIAwAEoBL"
      },
      "source": [
        "x_train, x_test, y_train, y_test = train_test_split(x, y, test_size=0.2, random_state=4)\n",
        "x1_train, x1_test, y1_train, y1_test = train_test_split(x1, y1, test_size=0.2, random_state=4)\n",
        "x2_train, x2_test, y2_train, y2_test = train_test_split(x2, y2, test_size=0.2, random_state=4)\n"
      ],
      "execution_count": 95,
      "outputs": []
    },
    {
      "cell_type": "code",
      "metadata": {
        "id": "OBxW-mJdEofO",
        "outputId": "dc9bba07-8db2-494c-bb7d-7403e1a1a3f3",
        "colab": {
          "base_uri": "https://localhost:8080/"
        }
      },
      "source": [
        "svm = make_pipeline(StandardScaler(with_mean=False), SVC(gamma='auto'))\n",
        "svm1 = make_pipeline(StandardScaler(with_mean=False), SVC(gamma='auto'))\n",
        "svm2 = make_pipeline(StandardScaler(with_mean=False), SVC(gamma='auto'))\n",
        "\n",
        "svm.fit(x_train,y_train)\n",
        "svm1.fit(x1_train,y1_train)\n",
        "svm2.fit(x2_train,y2_train)"
      ],
      "execution_count": 96,
      "outputs": [
        {
          "output_type": "execute_result",
          "data": {
            "text/plain": [
              "Pipeline(memory=None,\n",
              "         steps=[('standardscaler',\n",
              "                 StandardScaler(copy=True, with_mean=False, with_std=True)),\n",
              "                ('svc',\n",
              "                 SVC(C=1.0, break_ties=False, cache_size=200, class_weight=None,\n",
              "                     coef0=0.0, decision_function_shape='ovr', degree=3,\n",
              "                     gamma='auto', kernel='rbf', max_iter=-1, probability=False,\n",
              "                     random_state=None, shrinking=True, tol=0.001,\n",
              "                     verbose=False))],\n",
              "         verbose=False)"
            ]
          },
          "metadata": {
            "tags": []
          },
          "execution_count": 96
        }
      ]
    },
    {
      "cell_type": "code",
      "metadata": {
        "id": "iSsoiREPUarV"
      },
      "source": [
        "ans = {}\n",
        "ans['model'] = []\n",
        "ans['F1-score'] = []\n",
        "ans['Recall'] = []\n",
        "ans['Accuracy'] = []\n",
        "ans['Precision'] = []\n",
        "\n",
        "prediction = svm.predict(x_test)\n",
        "f1 = f1_score(y_test, prediction, average='weighted')\n",
        "acc = accuracy_score(y_test, prediction)\n",
        "rec = recall_score(y_test, prediction, average = 'macro')\n",
        "pre = precision_score(y_test, prediction, average='macro')\n",
        "\n",
        "ans['model'].append(\"Naive dataset\")\n",
        "ans['F1-score'].append(f1)\n",
        "ans['Recall'].append(rec)\n",
        "ans['Accuracy'].append(acc)\n",
        "ans['Precision'].append(pre)\n",
        "\n",
        "prediction = svm1.predict(x1_test)\n",
        "f1 = f1_score(y1_test, prediction, average='weighted')\n",
        "acc = accuracy_score(y1_test, prediction)\n",
        "rec = recall_score(y1_test, prediction, average = 'macro')\n",
        "pre = precision_score(y1_test, prediction, average='macro')\n",
        "\n",
        "ans['model'].append(\"Dataset with POS tag\")\n",
        "ans['F1-score'].append(f1)\n",
        "ans['Recall'].append(rec)\n",
        "ans['Accuracy'].append(acc)\n",
        "ans['Precision'].append(pre)\n",
        "\n",
        "prediction = svm2.predict(x2_test)\n",
        "f1 = f1_score(y2_test, prediction, average='weighted')\n",
        "acc = accuracy_score(y2_test, prediction)\n",
        "rec = recall_score(y2_test, prediction, average = 'macro')\n",
        "pre = precision_score(y2_test, prediction, average='macro')\n",
        "\n",
        "ans['model'].append(\"Stemmed dataset with POS tag\")\n",
        "ans['F1-score'].append(f1)\n",
        "ans['Recall'].append(rec)\n",
        "ans['Accuracy'].append(acc)\n",
        "ans['Precision'].append(pre)"
      ],
      "execution_count": 107,
      "outputs": []
    },
    {
      "cell_type": "code",
      "metadata": {
        "id": "S9kfX-Q0ZKR8",
        "outputId": "d0ee1565-0458-4b35-fbae-67195eca7070",
        "colab": {
          "base_uri": "https://localhost:8080/"
        }
      },
      "source": [
        "confusion_matrix(y2_test, prediction)"
      ],
      "execution_count": 108,
      "outputs": [
        {
          "output_type": "execute_result",
          "data": {
            "text/plain": [
              "array([[1345,  517],\n",
              "       [ 245, 1692]])"
            ]
          },
          "metadata": {
            "tags": []
          },
          "execution_count": 108
        }
      ]
    },
    {
      "cell_type": "code",
      "metadata": {
        "id": "HgmED_0TVkis",
        "outputId": "6582b921-755a-4f82-9f68-32c3e87b53eb",
        "colab": {
          "base_uri": "https://localhost:8080/",
          "height": 143
        }
      },
      "source": [
        "import operator\n",
        "final = pd.DataFrame(ans)\n",
        "final"
      ],
      "execution_count": 99,
      "outputs": [
        {
          "output_type": "execute_result",
          "data": {
            "text/html": [
              "<div>\n",
              "<style scoped>\n",
              "    .dataframe tbody tr th:only-of-type {\n",
              "        vertical-align: middle;\n",
              "    }\n",
              "\n",
              "    .dataframe tbody tr th {\n",
              "        vertical-align: top;\n",
              "    }\n",
              "\n",
              "    .dataframe thead th {\n",
              "        text-align: right;\n",
              "    }\n",
              "</style>\n",
              "<table border=\"1\" class=\"dataframe\">\n",
              "  <thead>\n",
              "    <tr style=\"text-align: right;\">\n",
              "      <th></th>\n",
              "      <th>model</th>\n",
              "      <th>F1-score</th>\n",
              "      <th>Recall</th>\n",
              "      <th>Accuracy</th>\n",
              "      <th>Precision</th>\n",
              "    </tr>\n",
              "  </thead>\n",
              "  <tbody>\n",
              "    <tr>\n",
              "      <th>0</th>\n",
              "      <td>Naive dataset</td>\n",
              "      <td>0.820561</td>\n",
              "      <td>0.820633</td>\n",
              "      <td>0.821147</td>\n",
              "      <td>0.824876</td>\n",
              "    </tr>\n",
              "    <tr>\n",
              "      <th>1</th>\n",
              "      <td>Dataset with POS tag</td>\n",
              "      <td>0.800868</td>\n",
              "      <td>0.802533</td>\n",
              "      <td>0.801927</td>\n",
              "      <td>0.809116</td>\n",
              "    </tr>\n",
              "    <tr>\n",
              "      <th>2</th>\n",
              "      <td>Stemmed dataset with POS tag</td>\n",
              "      <td>0.798098</td>\n",
              "      <td>0.797929</td>\n",
              "      <td>0.799421</td>\n",
              "      <td>0.805935</td>\n",
              "    </tr>\n",
              "  </tbody>\n",
              "</table>\n",
              "</div>"
            ],
            "text/plain": [
              "                          model  F1-score    Recall  Accuracy  Precision\n",
              "0                 Naive dataset  0.820561  0.820633  0.821147   0.824876\n",
              "1          Dataset with POS tag  0.800868  0.802533  0.801927   0.809116\n",
              "2  Stemmed dataset with POS tag  0.798098  0.797929  0.799421   0.805935"
            ]
          },
          "metadata": {
            "tags": []
          },
          "execution_count": 99
        }
      ]
    },
    {
      "cell_type": "markdown",
      "metadata": {
        "id": "FFNyvbXcYfVi"
      },
      "source": [
        "# LR on oversampled data\n"
      ]
    },
    {
      "cell_type": "code",
      "metadata": {
        "id": "kXXSXw4jYh7h",
        "outputId": "5767ae57-19f6-4c32-e96f-3832bb1c4060",
        "colab": {
          "base_uri": "https://localhost:8080/"
        }
      },
      "source": [
        "lr = LogisticRegression(random_state=0, solver='lbfgs',multi_class='multinomial')\n",
        "lr1 = LogisticRegression(random_state=0, solver='lbfgs',multi_class='multinomial')\n",
        "lr2 = LogisticRegression(random_state=0, solver='lbfgs',multi_class='multinomial')\n",
        "\n",
        "lr.fit(x_train,y_train)\n",
        "lr1.fit(x1_train,y1_train)\n",
        "lr2.fit(x2_train,y2_train)"
      ],
      "execution_count": 102,
      "outputs": [
        {
          "output_type": "stream",
          "text": [
            "/usr/local/lib/python3.6/dist-packages/sklearn/linear_model/_logistic.py:940: ConvergenceWarning: lbfgs failed to converge (status=1):\n",
            "STOP: TOTAL NO. of ITERATIONS REACHED LIMIT.\n",
            "\n",
            "Increase the number of iterations (max_iter) or scale the data as shown in:\n",
            "    https://scikit-learn.org/stable/modules/preprocessing.html\n",
            "Please also refer to the documentation for alternative solver options:\n",
            "    https://scikit-learn.org/stable/modules/linear_model.html#logistic-regression\n",
            "  extra_warning_msg=_LOGISTIC_SOLVER_CONVERGENCE_MSG)\n",
            "/usr/local/lib/python3.6/dist-packages/sklearn/linear_model/_logistic.py:940: ConvergenceWarning: lbfgs failed to converge (status=1):\n",
            "STOP: TOTAL NO. of ITERATIONS REACHED LIMIT.\n",
            "\n",
            "Increase the number of iterations (max_iter) or scale the data as shown in:\n",
            "    https://scikit-learn.org/stable/modules/preprocessing.html\n",
            "Please also refer to the documentation for alternative solver options:\n",
            "    https://scikit-learn.org/stable/modules/linear_model.html#logistic-regression\n",
            "  extra_warning_msg=_LOGISTIC_SOLVER_CONVERGENCE_MSG)\n",
            "/usr/local/lib/python3.6/dist-packages/sklearn/linear_model/_logistic.py:940: ConvergenceWarning: lbfgs failed to converge (status=1):\n",
            "STOP: TOTAL NO. of ITERATIONS REACHED LIMIT.\n",
            "\n",
            "Increase the number of iterations (max_iter) or scale the data as shown in:\n",
            "    https://scikit-learn.org/stable/modules/preprocessing.html\n",
            "Please also refer to the documentation for alternative solver options:\n",
            "    https://scikit-learn.org/stable/modules/linear_model.html#logistic-regression\n",
            "  extra_warning_msg=_LOGISTIC_SOLVER_CONVERGENCE_MSG)\n"
          ],
          "name": "stderr"
        },
        {
          "output_type": "execute_result",
          "data": {
            "text/plain": [
              "LogisticRegression(C=1.0, class_weight=None, dual=False, fit_intercept=True,\n",
              "                   intercept_scaling=1, l1_ratio=None, max_iter=100,\n",
              "                   multi_class='multinomial', n_jobs=None, penalty='l2',\n",
              "                   random_state=0, solver='lbfgs', tol=0.0001, verbose=0,\n",
              "                   warm_start=False)"
            ]
          },
          "metadata": {
            "tags": []
          },
          "execution_count": 102
        }
      ]
    },
    {
      "cell_type": "code",
      "metadata": {
        "id": "-wt3XJgHYij5"
      },
      "source": [
        "ans = {}\n",
        "ans['model'] = []\n",
        "ans['F1-score'] = []\n",
        "ans['Recall'] = []\n",
        "ans['Accuracy'] = []\n",
        "ans['Precision'] = []\n",
        "\n",
        "prediction = lr.predict(x_test)\n",
        "f1 = f1_score(y_test, prediction, average='weighted')\n",
        "acc = accuracy_score(y_test, prediction)\n",
        "rec = recall_score(y_test, prediction, average = 'macro')\n",
        "pre = precision_score(y_test, prediction, average='macro')\n",
        "\n",
        "ans['model'].append(\"Naive dataset\")\n",
        "ans['F1-score'].append(f1)\n",
        "ans['Recall'].append(rec)\n",
        "ans['Accuracy'].append(acc)\n",
        "ans['Precision'].append(pre)\n",
        "\n",
        "prediction = lr1.predict(x1_test)\n",
        "f1 = f1_score(y1_test, prediction, average='weighted')\n",
        "acc = accuracy_score(y1_test, prediction)\n",
        "rec = recall_score(y1_test, prediction, average = 'macro')\n",
        "pre = precision_score(y1_test, prediction, average='macro')\n",
        "\n",
        "ans['model'].append(\"Dataset with POS tag\")\n",
        "ans['F1-score'].append(f1)\n",
        "ans['Recall'].append(rec)\n",
        "ans['Accuracy'].append(acc)\n",
        "ans['Precision'].append(pre)\n",
        "\n",
        "prediction = lr2.predict(x2_test)\n",
        "f1 = f1_score(y2_test, prediction, average='weighted')\n",
        "acc = accuracy_score(y2_test, prediction)\n",
        "rec = recall_score(y2_test, prediction, average = 'macro')\n",
        "pre = precision_score(y2_test, prediction, average='macro')\n",
        "\n",
        "ans['model'].append(\"Stemmed dataset with POS tag\")\n",
        "ans['F1-score'].append(f1)\n",
        "ans['Recall'].append(rec)\n",
        "ans['Accuracy'].append(acc)\n",
        "ans['Precision'].append(pre)"
      ],
      "execution_count": 103,
      "outputs": []
    },
    {
      "cell_type": "code",
      "metadata": {
        "id": "a1o5oLUvYkew",
        "outputId": "0d26b433-6231-46bc-d511-bd1095857cc5",
        "colab": {
          "base_uri": "https://localhost:8080/",
          "height": 143
        }
      },
      "source": [
        "import operator\n",
        "final = pd.DataFrame(ans)\n",
        "final"
      ],
      "execution_count": 104,
      "outputs": [
        {
          "output_type": "execute_result",
          "data": {
            "text/html": [
              "<div>\n",
              "<style scoped>\n",
              "    .dataframe tbody tr th:only-of-type {\n",
              "        vertical-align: middle;\n",
              "    }\n",
              "\n",
              "    .dataframe tbody tr th {\n",
              "        vertical-align: top;\n",
              "    }\n",
              "\n",
              "    .dataframe thead th {\n",
              "        text-align: right;\n",
              "    }\n",
              "</style>\n",
              "<table border=\"1\" class=\"dataframe\">\n",
              "  <thead>\n",
              "    <tr style=\"text-align: right;\">\n",
              "      <th></th>\n",
              "      <th>model</th>\n",
              "      <th>F1-score</th>\n",
              "      <th>Recall</th>\n",
              "      <th>Accuracy</th>\n",
              "      <th>Precision</th>\n",
              "    </tr>\n",
              "  </thead>\n",
              "  <tbody>\n",
              "    <tr>\n",
              "      <th>0</th>\n",
              "      <td>Naive dataset</td>\n",
              "      <td>0.846852</td>\n",
              "      <td>0.846887</td>\n",
              "      <td>0.847449</td>\n",
              "      <td>0.852379</td>\n",
              "    </tr>\n",
              "    <tr>\n",
              "      <th>1</th>\n",
              "      <td>Dataset with POS tag</td>\n",
              "      <td>0.832485</td>\n",
              "      <td>0.833807</td>\n",
              "      <td>0.833244</td>\n",
              "      <td>0.839973</td>\n",
              "    </tr>\n",
              "    <tr>\n",
              "      <th>2</th>\n",
              "      <td>Stemmed dataset with POS tag</td>\n",
              "      <td>0.838055</td>\n",
              "      <td>0.837594</td>\n",
              "      <td>0.838905</td>\n",
              "      <td>0.844822</td>\n",
              "    </tr>\n",
              "  </tbody>\n",
              "</table>\n",
              "</div>"
            ],
            "text/plain": [
              "                          model  F1-score    Recall  Accuracy  Precision\n",
              "0                 Naive dataset  0.846852  0.846887  0.847449   0.852379\n",
              "1          Dataset with POS tag  0.832485  0.833807  0.833244   0.839973\n",
              "2  Stemmed dataset with POS tag  0.838055  0.837594  0.838905   0.844822"
            ]
          },
          "metadata": {
            "tags": []
          },
          "execution_count": 104
        }
      ]
    }
  ]
}